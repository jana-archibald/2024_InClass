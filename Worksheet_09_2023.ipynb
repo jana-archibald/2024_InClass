{
 "cells": [
  {
   "cell_type": "markdown",
   "metadata": {
    "editable": false
   },
   "source": [
    "# Worksheet 9: Inference for One Proportion #"
   ]
  },
  {
   "cell_type": "markdown",
   "metadata": {
    "editable": false
   },
   "source": [
    "## Objectives: ##\n",
    "To become familiar with building and interpreting confidence intervals for one proportion and practice using the formula provided below."
   ]
  },
  {
   "cell_type": "markdown",
   "metadata": {
    "editable": false
   },
   "source": [
    "## Instructions: ##\n",
    "* Do NOT round any of the values unless your are explicitly told to do so in the question.\n",
    "* You can compute the required values using R as your calculator."
   ]
  },
  {
   "cell_type": "markdown",
   "metadata": {
    "editable": false
   },
   "source": [
    "## Formulae: ##\n",
    "A confidence interval is calculated by finding\n",
    "$$(point\\  \\  \\  estimate) \\pm z^*\\times SE$$\n",
    "\n",
    "Thus, the confidence interval for one proportion is calculated by finding\n",
    "$$ \\hat p \\pm z^* \\times\\sqrt{\\frac{\\hat p \\times (1-\\hat p)}{n}}$$\n",
    "\n",
    "Standard error for $\\hat{p}$\n",
    "\n",
    "$$SE(\\hat{p})=\\sqrt{\\frac{p(1-p)}{n}}$$"
   ]
  },
  {
   "cell_type": "markdown",
   "metadata": {
    "editable": false
   },
   "source": [
    "## Tools: ##\n",
    "If you would find it useful to have a graph to look at for one of these questions you can use the normalplot (defined below) just remember to run the code block for the normalplot. \n",
    "* Recall that to draw a normal curve with mean (m) and standard deviation (sd), that is shaded from min to max enter the command:\n",
    "  * `normalplot(m, sd, c(min, max))`\n",
    "* NOTE: You are not required to graph for any of this week's questions."
   ]
  },
  {
   "cell_type": "code",
   "execution_count": 1,
   "metadata": {
    "editable": false
   },
   "outputs": [],
   "source": [
    "normalplot<-function(m,sd,region=0){\n",
    "  x<-seq(m-(3.5)*sd,m+(3.5)*sd,length=1000)\n",
    "  y<-dnorm(x,m,sd)\n",
    "  plot(x,y,type=\"l\",xlab=\"\",ylab=\"\", bty=\"n\", yaxt=\"n\")\n",
    "  h <- dnorm(m,m,sd)\n",
    "  z<-x[x>region[1]]\n",
    "  z<-z[z<region[2]]\n",
    "  polygon(c(region[1],z,region[2]),\n",
    "          c(0,dnorm(z,m,sd),0),col=\"gray\")\n",
    "  abline(v=m)\n",
    "  abline(h=0)}"
   ]
  },
  {
   "cell_type": "markdown",
   "metadata": {
    "editable": false
   },
   "source": [
    "## Data Information: ##\n",
    "The data for this tutorial was inspired by two sources:\n",
    "* \"Canadian postsecondary enrolments and graduates, 2016/2017.\" Statistics Canada. 2018-11-28. https://www150.statcan.gc.ca/n1/daily-quotidien/181128/dq181128c-eng.htm.\n",
    "* \"The evolution of language populations in Canada, by mother tongue, from 1901 to 2016.\" Statistics Canada. 2018-02-21. https://www150.statcan.gc.ca/n1/pub/11-630-x/11-630-x2018001-eng.htm."
   ]
  },
  {
   "cell_type": "markdown",
   "metadata": {
    "editable": false
   },
   "source": [
    "## Question 1. Construct a Confidence Interval ##"
   ]
  },
  {
   "cell_type": "markdown",
   "metadata": {
    "editable": false
   },
   "source": [
    "Suppose a sample of students enrolled in Canadian universities yielded the following data\t\n",
    "\n",
    "<table>\t\t\t\t\n",
    "<tr><th>\tField of study\t</th><th>\t2016/2017\t</th></tr>\n",
    "<tr><td>\tPersonal improvement and leisure\t</td><td>\t3\t</td></tr>\n",
    "<tr><td>\tEducation\t</td><td>\t77\t</td></tr>\n",
    "<tr><td>\tVisual and performing arts, and communications technologies\t</td><td>\t41\t</td></tr>\n",
    "<tr><td>\tHumanities\t</td><td>\t159\t</td></tr>\n",
    "<tr><td>\tSocial and behavioural sciences, and law\t</td><td>\t225\t</td></tr>\n",
    "<tr><td>\tBusiness, management and public administration\t</td><td>\t262\t</td></tr>\n",
    "<tr><td>\tPhysical and life sciences, and technologies\t</td><td>\t136\t</td></tr>\n",
    "<tr><td>\tMathematics, computer and information sciences\t</td><td>\t55\t</td></tr>\n",
    "<tr><td>\tArchitecture, engineering and related technologies\t</td><td>\t136\t</td></tr>\n",
    "<tr><td>\tAgriculture, natural resources and conservation\t</td><td>\t23\t</td></tr>\n",
    "<tr><td>\tHealth and related fields\t</td><td>\t170\t</td></tr>\n",
    "<tr><td>\tPersonal, protective and transportation services\t</td><td>\t7\t</td></tr>\n",
    "<tr><td>\tOther fields of study\t</td><td>\t42\t</td></tr>\n",
    "<tr><th>\tTotal\t</th><th>\t1336\t</th></tr>\n",
    "</table>\t\t\t\t\n",
    "\n",
    "\n",
    "* a. What proportion of all the students in this survey reported their field of study to be mathematics, computer or information sciences?\n",
    "* b. To calculate a 95% confidence interval, $z^* = 1.96$. Find the 95% confidence interval for the proportion of students studying mathematics, computer and information science.\n",
    "* c. Write a sentence, including your 95% confidence interval, summarising the results of the study.\n",
    "* d. Explain why the 93% confidence interval will be narrower than the 95% confidence interval.\n",
    "* e. What value do you use for $z^*$ to create a 93% confidence interval (round to 2 decimal places). [You can use qnorm to find this value]\n",
    "* f. Find the 93% confidence interval for the proportion of students studying mathematics, computer and information science.\n",
    "* g. Write a sentence, including your 93% confidence interval, summarising the results of the study."
   ]
  },
  {
   "cell_type": "markdown",
   "metadata": {
    "editable": false
   },
   "source": [
    "### Answer 1.a. ##"
   ]
  },
  {
   "cell_type": "code",
   "execution_count": null,
   "metadata": {},
   "outputs": [],
   "source": [
    "Calculate the proportion."
   ]
  },
  {
   "cell_type": "markdown",
   "metadata": {
    "slideshow": {
     "slide_type": "slide"
    }
   },
   "source": [
    "Answer with a sentence."
   ]
  },
  {
   "cell_type": "markdown",
   "metadata": {
    "editable": false
   },
   "source": [
    "### Answer 1.b. ##"
   ]
  },
  {
   "cell_type": "code",
   "execution_count": null,
   "metadata": {},
   "outputs": [],
   "source": [
    "Calculate the lower limit."
   ]
  },
  {
   "cell_type": "code",
   "execution_count": null,
   "metadata": {},
   "outputs": [],
   "source": [
    "Calculate the upper limit."
   ]
  },
  {
   "cell_type": "markdown",
   "metadata": {
    "editable": false
   },
   "source": [
    "### Answer 1.c. ##"
   ]
  },
  {
   "cell_type": "markdown",
   "metadata": {},
   "source": [
    "Answer with a sentence."
   ]
  },
  {
   "cell_type": "markdown",
   "metadata": {
    "editable": false
   },
   "source": [
    "### Answer 1.d. ##"
   ]
  },
  {
   "cell_type": "markdown",
   "metadata": {},
   "source": [
    "Answer with a sentence."
   ]
  },
  {
   "cell_type": "markdown",
   "metadata": {
    "editable": false
   },
   "source": [
    "### Answer 1.e. ##"
   ]
  },
  {
   "cell_type": "code",
   "execution_count": null,
   "metadata": {},
   "outputs": [],
   "source": [
    "Calculate z*"
   ]
  },
  {
   "cell_type": "markdown",
   "metadata": {},
   "source": [
    "Answer with a sentence."
   ]
  },
  {
   "cell_type": "markdown",
   "metadata": {
    "editable": false
   },
   "source": [
    "### Answer 1.f. ##"
   ]
  },
  {
   "cell_type": "code",
   "execution_count": null,
   "metadata": {},
   "outputs": [],
   "source": [
    "Calculate the lower limit."
   ]
  },
  {
   "cell_type": "code",
   "execution_count": null,
   "metadata": {},
   "outputs": [],
   "source": [
    "Calculate the upper limit."
   ]
  },
  {
   "cell_type": "markdown",
   "metadata": {
    "editable": false
   },
   "source": [
    "### Answer 1.g. ##"
   ]
  },
  {
   "cell_type": "markdown",
   "metadata": {},
   "source": [
    "Answer with a sentence."
   ]
  },
  {
   "cell_type": "markdown",
   "metadata": {
    "editable": false
   },
   "source": [
    "## Question 2. Thinking critically about our results"
   ]
  },
  {
   "cell_type": "markdown",
   "metadata": {
    "editable": false
   },
   "source": [
    "<blockquote>Although their enumeration was certainly not complete, the 1901 Census counted close to 77,000 people whose mother tongue is an Aboriginal language, representing 1.4% of the population.<br>\n",
    "<cite>\"The evolution of language populations in Canada, by mother tongue, from 1901 to 2016.\" Statistics Canada. 2018-02-21. https://www150.statcan.gc.ca/n1/pub/11-630-x/11-630-x2018001-eng.htm.</cite></blockquote>\n",
    "\n",
    "Suppose that in 2015 a sample of 5,000 Canadians found that 0.6% identified their mother tongue as an Aboriginal language.\n",
    "\n",
    "* a. Create a 95% confidence interval for the true proportion of Canadians whose mother tongue was an Aboriginal language in 1901.  (You can assume that n=5500000 the number of people in the census) \n",
    "* b. Why should we be cautious/skeptical of the interval we just computed?\n",
    "* c. Create a 95% confidence interval for the true proportion of Canadians whose mother tongue was an Aboriginal language in 2015.\n",
    "* d. What do the two confidence intervals tell you about the change in the proportion of Canadians whose mother tongue was an aboriginal language? What information would make you more confident in your assessment?"
   ]
  },
  {
   "cell_type": "markdown",
   "metadata": {
    "editable": false
   },
   "source": [
    "### Answer 2.a. ##"
   ]
  },
  {
   "cell_type": "code",
   "execution_count": null,
   "metadata": {},
   "outputs": [],
   "source": [
    "Calculate the lower limit."
   ]
  },
  {
   "cell_type": "code",
   "execution_count": null,
   "metadata": {},
   "outputs": [],
   "source": [
    "Calculate the upper limit."
   ]
  },
  {
   "cell_type": "markdown",
   "metadata": {
    "slideshow": {
     "slide_type": "slide"
    }
   },
   "source": [
    "Interpret the confidence interval. Answer with a sentence."
   ]
  },
  {
   "cell_type": "markdown",
   "metadata": {
    "editable": false
   },
   "source": [
    "### Answer 2.b. ##"
   ]
  },
  {
   "cell_type": "markdown",
   "metadata": {
    "slideshow": {
     "slide_type": "slide"
    }
   },
   "source": [
    "Answer with a sentence."
   ]
  },
  {
   "cell_type": "markdown",
   "metadata": {
    "editable": false
   },
   "source": [
    "### Answer 2.c. ##"
   ]
  },
  {
   "cell_type": "code",
   "execution_count": null,
   "metadata": {},
   "outputs": [],
   "source": [
    "Calculate the lower limit."
   ]
  },
  {
   "cell_type": "code",
   "execution_count": null,
   "metadata": {},
   "outputs": [],
   "source": [
    "Calculate the upper limit."
   ]
  },
  {
   "cell_type": "markdown",
   "metadata": {
    "slideshow": {
     "slide_type": "slide"
    }
   },
   "source": [
    "Interpret the confidence interval. Answer with a sentence."
   ]
  },
  {
   "cell_type": "markdown",
   "metadata": {
    "editable": false
   },
   "source": [
    "### Answer 2.d. ##"
   ]
  },
  {
   "cell_type": "markdown",
   "metadata": {
    "slideshow": {
     "slide_type": "slide"
    }
   },
   "source": [
    "Answer with a sentence."
   ]
  },
  {
   "cell_type": "markdown",
   "metadata": {},
   "source": [
    "## Question 3. Practice with p-values"
   ]
  },
  {
   "cell_type": "markdown",
   "metadata": {
    "editable": false
   },
   "source": [
    "In this question we will be looking at only the last part of hypothesis tests. Mainly computing the p-value and writting a conlclusion. \n",
    "\n",
    "\n",
    "### Hypothesis Test A \n",
    "\n",
    "Prepare:\n",
    "\n",
    "- $H_0: p = 0.1$ \n",
    "- $H_a: p <0.1 $\n",
    "- $\\alpha=0.05$\n",
    "- n=200\n",
    "\n",
    "Check:\n",
    "\n",
    "Independence \n",
    "- Random sample $\\checkmark$\n",
    "- Less than 10% $\\checkmark$\n",
    "- Independent data gathering? $\\checkmark$\n",
    "\n",
    "Sample Size\n",
    " - At least 10 successes 0.1*200=20>10$\\checkmark$\n",
    " - At least 10 failures   0.9*200=180>10$\\checkmark$\n",
    " \n",
    " Calculate:\n",
    " \n",
    "The study was completed and observed 14 successses in the 200 trials.\n",
    "\n",
    "$\\hat{p}=0.07$\n",
    "\n",
    "$SE(\\hat{p})=\\sqrt{\\frac{0.1\\times 0.9}{200}}=0.0212132034355964$\n",
    "\n",
    "* a. Plot the area corresponding to the p-value by running the folowing code.\n",
    "\n",
    "* b. Compute the p-value using either the exact method (binomial) or the normal approximation.\n",
    "\n",
    " - You could even try both.\n",
    "* c. Write the conclusion for this hypothesis test.\n"
   ]
  },
  {
   "cell_type": "code",
   "execution_count": null,
   "metadata": {
    "editable": false
   },
   "outputs": [],
   "source": [
    "normalplot(0.1,0.0212132034355964,c(0,0.07))"
   ]
  },
  {
   "cell_type": "markdown",
   "metadata": {
    "editable": false
   },
   "source": [
    "* b. Compute the p-value using either the exact method (binomial) or the normal approximation."
   ]
  },
  {
   "cell_type": "code",
   "execution_count": null,
   "metadata": {},
   "outputs": [],
   "source": []
  },
  {
   "cell_type": "code",
   "execution_count": null,
   "metadata": {},
   "outputs": [],
   "source": []
  },
  {
   "cell_type": "markdown",
   "metadata": {
    "editable": false
   },
   "source": [
    "* c. Write the conclusion for this hypothesis test."
   ]
  },
  {
   "cell_type": "markdown",
   "metadata": {},
   "source": [
    "Type your conclusion here"
   ]
  },
  {
   "cell_type": "markdown",
   "metadata": {
    "editable": false
   },
   "source": [
    "In this question we will be looking at only the last part of hypothesis tests. Mainly computing the p-value and writting a conlclusion. \n",
    "\n",
    "\n",
    "### Part b)\n",
    "\n",
    "Prepare:\n",
    "\n",
    "- $H_0: p  =  0.4$ \n",
    "- $H_a: p  \\neq 0.4 $\n",
    "- $\\alpha=0.05$\n",
    "- n=450\n",
    "\n",
    "Check:\n",
    "\n",
    "Independence \n",
    "- Random sample $\\checkmark$\n",
    "- Less than 10% $\\checkmark$\n",
    "- Independent data gathering? $\\checkmark$\n",
    "\n",
    "Sample Size\n",
    " - At least 10 successes  450*0.4=180>10$\\checkmark$\n",
    " - At least 10 failures   450*0.6=270>10$\\checkmark$\n",
    " \n",
    " Calculate:\n",
    " \n",
    "The study was completed and observed 192 successses in the 450 trials.\n",
    "\n",
    "$\\hat{p}=\\frac{202}{450}=0.448888888888889$\n",
    "\n",
    "$SE(\\hat{p})$ `=sqrt(0.4*0.6/450)=0.023094010767585`\n",
    "\n",
    "* a. Plot the area corresponding to the p-value by running the folowing code. \n",
    "  - Note that since normal plot can only shade one region, you need to imagine shadding the mirror image of this region as well.\n",
    "  - I have also included a second plot where the p-value is the unshaded region.\n",
    "\n",
    "* b. Compute the p-value using either the exact method (binomial) or the normal approximation.\n",
    "\n",
    " - You could even try both.\n",
    "* Write the conclusion for this hypothesis test.\n"
   ]
  },
  {
   "cell_type": "code",
   "execution_count": null,
   "metadata": {
    "editable": false
   },
   "outputs": [],
   "source": [
    "par(mfrow=c(2,1))\n",
    "normalplot(0.4,0.023094010767585,c(202/450,1))\n",
    "normalplot(0.4,0.023094010767585,c(158/450,202/450))"
   ]
  },
  {
   "cell_type": "markdown",
   "metadata": {
    "editable": false
   },
   "source": [
    "* b. Compute the p-value using either the exact method (binomial) or the normal approximation."
   ]
  },
  {
   "cell_type": "code",
   "execution_count": null,
   "metadata": {},
   "outputs": [],
   "source": []
  },
  {
   "cell_type": "code",
   "execution_count": null,
   "metadata": {},
   "outputs": [],
   "source": []
  },
  {
   "cell_type": "markdown",
   "metadata": {
    "editable": false
   },
   "source": [
    "* c. Write the conclusion for this hypothesis test."
   ]
  },
  {
   "cell_type": "markdown",
   "metadata": {},
   "source": [
    "type your conlcusion here"
   ]
  },
  {
   "cell_type": "code",
   "execution_count": 2,
   "metadata": {
    "scrolled": true
   },
   "outputs": [
    {
     "data": {
      "image/png": "[encoded data removed]",
      "text/plain": [
       "plot without title"
      ]
     },
     "metadata": {
      "image/png": {
       "height": 420,
       "width": 420
      }
     },
     "output_type": "display_data"
    }
   ],
   "source": [
    "normalplot(35,5)"
   ]
  },
  {
   "cell_type": "markdown",
   "metadata": {
    "editable": false
   },
   "source": [
    "---\n",
    "---\n",
    "#### This tutorial is released under a Creative Commons Attribution-ShareAlike 3.0 Unported.\n",
    "\n",
    "This tutorial has been adapted from a lab that  was adapted for OpenIntro by Andrew Bray and Mine Çetinkaya-Rundel from a lab written by Mark Hansen of UCLA Statistics.\n",
    "\n",
    "---\n",
    "---"
   ]
  }
 ],
 "metadata": {
  "kernelspec": {
   "display_name": "R",
   "language": "R",
   "name": "ir"
  },
  "language_info": {
   "codemirror_mode": "r",
   "file_extension": ".r",
   "mimetype": "text/x-r-source",
   "name": "R",
   "pygments_lexer": "r",
   "version": "4.3.1"
  }
 },
 "nbformat": 4,
 "nbformat_minor": 4
}
