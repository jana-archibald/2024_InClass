{
 "cells": [
  {
   "cell_type": "markdown",
   "metadata": {
    "editable": false
   },
   "source": [
    "# Worksheet 10: Inference for One Mean #"
   ]
  },
  {
   "cell_type": "markdown",
   "metadata": {
    "editable": false
   },
   "source": [
    "## Objectives: ##\n",
    "To become familiar with doing hypothesis tests for means. Practice using the formulas below."
   ]
  },
  {
   "cell_type": "markdown",
   "metadata": {
    "editable": false
   },
   "source": [
    "## Instructions: ##\n",
    "* Do NOT round any of the values unless your are explicitly told to do so in the question.\n",
    "* You can compute the required values using R as your calculator.\n",
    "* You must use the t-distribution for this worksheet (you can not use the normal distribution"
   ]
  },
  {
   "cell_type": "markdown",
   "metadata": {
    "editable": false
   },
   "source": [
    "## Formulae: ##\n",
    "A confidence interval is calculated by finding\n",
    "$$(point\\  \\  \\  estimate) \\pm multiplier\\times SE$$\n",
    "\n",
    "Thus, the confidence interval for one mean is calculated by finding\n",
    "$$ \\bar x \\pm t^* \\times\\frac{s}{\\sqrt{n}}$$\n",
    "\n",
    "Standard error for $\\bar{x}$\n",
    "\n",
    "$$SE(\\bar{x})=\\frac{\\sigma}{\\sqrt{n}}$$\n",
    "\n",
    "Test statistic (in this case t score)\n",
    "\n",
    "$$t=\\frac{\\bar{x}-\\mu_0}{\\frac{s}{\\sqrt{n}}}$$"
   ]
  },
  {
   "cell_type": "markdown",
   "metadata": {
    "editable": false
   },
   "source": [
    "## Tools: ##\n",
    "\n",
    "To find the area under the t-distribution you can use the code below to find the area to the left of t, with degrees of freedom df.\n",
    "\n",
    "`pt(t,df)`\n",
    "\n",
    "To find the cut off that will have area a to the left you can use the code \n",
    "\n",
    "`qt(a,df)`\n",
    "\n",
    "(Note that these work the same was as `pnorm` and `qnorm` but for t distributions.)\n",
    "\n",
    "\n",
    "If you would find it useful to have a graph to look at for one of these questions you can use the normalplot (defined below) just remember to run the code block for the normalplot. \n",
    "* Recall that to draw a normal curve with mean (m) and standard deviation (sd), that is shaded from min to max enter the command:\n",
    "  * `normalplot(m, sd, c(min, max))`\n",
    "* NOTE: You are not required to graph for any of this week's questions."
   ]
  },
  {
   "cell_type": "code",
   "execution_count": null,
   "metadata": {
    "editable": false
   },
   "outputs": [],
   "source": [
    "normalplot<-function(m,sd,region=0){\n",
    "  x<-seq(m-(3.5)*sd,m+(3.5)*sd,length=1000)\n",
    "  y<-dnorm(x,m,sd)\n",
    "  plot(x,y,type=\"l\",xlab=\"\",ylab=\"\", bty=\"n\", yaxt=\"n\")\n",
    "  z<-x[x>region[1]]\n",
    "  z<-z[z<region[2]]\n",
    "  polygon(c(region[1],z,region[2]),\n",
    "          c(0,dnorm(z,m,sd),0),col=\"gray\")\n",
    "  abline(v=m)\n",
    "  abline(h=0)}"
   ]
  },
  {
   "cell_type": "markdown",
   "metadata": {
    "editable": false
   },
   "source": [
    "## Data Information: ##\n",
    "\n",
    "## North Carolina births\n",
    "\n",
    "In 2004, the state of North Carolina released a large data set containing information on births recorded in this state. This data set is useful to researchers studying the relation between habits and practices of expectant mothers and the birth of their children. We will work with a random sample of observations from this data set.\n",
    "\n",
    "While there are **13** variables in this data set, we will work with two today.\n",
    "\n",
    "There are **972** observations in this dataset.\n",
    "\n",
    "\n",
    "#### Name: #### \n",
    "* `ncbirths` - a random* sample of 1998 births in North Carolina from 2004.\n",
    "\n",
    "#### Variables: ####\n",
    "* `weeks` - length of the pregnancy in weeks\n",
    "* `gained` - weight gained by the mother during pregnancy in pounds.\n",
    "\n",
    "If you read the code to load the data you can see that this isn't quite a random sample. (feel free to ask Jana why in class)"
   ]
  },
  {
   "cell_type": "code",
   "execution_count": null,
   "metadata": {
    "editable": false
   },
   "outputs": [],
   "source": [
    "source(\"https://www.openintro.org/data/R/ncbirths.R\")\n",
    "ncbirths<-ncbirths[-which(is.na(ncbirths$gained)==TRUE | is.na(ncbirths$weeks)==TRUE),]"
   ]
  },
  {
   "cell_type": "markdown",
   "metadata": {
    "editable": false
   },
   "source": [
    "# Hypothesis Tests for Means\n",
    "\n",
    "## Despite the fact that the sample size is large enough to use a normal approximation, you must use the t-distribution in this worksheet.\n",
    "\n",
    "\n"
   ]
  },
  {
   "cell_type": "markdown",
   "metadata": {
    "editable": false
   },
   "source": [
    "# Question 1.  Is the average pregnancy less than 40 weeks in length?\n",
    "\n",
    "\n"
   ]
  },
  {
   "cell_type": "markdown",
   "metadata": {
    "editable": false
   },
   "source": [
    "### Prepare:\n",
    "\n",
    "a.  What are the hypothesis?\n",
    "\n",
    "\n",
    "#### We will use $\\alpha=0.01$ for this test.\n",
    "\n",
    "### Check\n",
    "\n",
    "We can assume that the sample is random, the data was collected independently, and 972 is less than 10% of the population. \n",
    "\n",
    "b. Make a histogram \n",
    "\n",
    "c.Do you meet the requirements to perform a valid hypothesis test?\n",
    "\n",
    "### Calculate\n",
    "\n",
    "d.  Calculate the necessary sample statistics. (You need to know the sample mean and sample standard deviation.)\n",
    "\n",
    "e. Calculate the t-score \n",
    "\n",
    "f. What is df, the degrees of freedom?\n",
    "\n",
    "g. Compute the p-value\n",
    "\n",
    "### Conclude\n",
    "\n",
    "h. State your conclusion."
   ]
  },
  {
   "cell_type": "markdown",
   "metadata": {},
   "source": [
    "### Answers Question 1"
   ]
  },
  {
   "cell_type": "markdown",
   "metadata": {
    "editable": false
   },
   "source": [
    "a.  What are the hypothesis?"
   ]
  },
  {
   "cell_type": "markdown",
   "metadata": {},
   "source": [
    "Type the hypothesis here.\n",
    "\n",
    "Null:  $\\mu$ \n",
    "\n",
    "\n",
    "Alternate:  $\\mu$ "
   ]
  },
  {
   "cell_type": "markdown",
   "metadata": {
    "editable": false
   },
   "source": [
    "We can assume that the sample is random, the data was collected independently, and 1000 is less than 10% of the population. \n",
    "\n",
    "b. Make a histogram"
   ]
  },
  {
   "cell_type": "code",
   "execution_count": null,
   "metadata": {},
   "outputs": [],
   "source": [
    "Type your code here"
   ]
  },
  {
   "cell_type": "markdown",
   "metadata": {
    "editable": false
   },
   "source": [
    "c. Do you meet the requirements to perform a valid hypothesis test?"
   ]
  },
  {
   "cell_type": "markdown",
   "metadata": {},
   "source": [
    "Type your answer here"
   ]
  },
  {
   "cell_type": "markdown",
   "metadata": {
    "editable": false
   },
   "source": [
    "d.  Calculate the necessary sample statistics. (You need to know the sample mean and sample standard deviation.)\n"
   ]
  },
  {
   "cell_type": "code",
   "execution_count": null,
   "metadata": {},
   "outputs": [],
   "source": [
    "Type your code here"
   ]
  },
  {
   "cell_type": "code",
   "execution_count": null,
   "metadata": {},
   "outputs": [],
   "source": [
    "Type your code here"
   ]
  },
  {
   "cell_type": "markdown",
   "metadata": {
    "editable": false
   },
   "source": [
    "e. Calculate the t-score "
   ]
  },
  {
   "cell_type": "code",
   "execution_count": null,
   "metadata": {},
   "outputs": [],
   "source": [
    "Type your code/calculation here"
   ]
  },
  {
   "cell_type": "markdown",
   "metadata": {
    "editable": false
   },
   "source": [
    "f. What is df, the degrees of freedom?"
   ]
  },
  {
   "cell_type": "code",
   "execution_count": null,
   "metadata": {},
   "outputs": [],
   "source": [
    "Type your code/calculation here"
   ]
  },
  {
   "cell_type": "markdown",
   "metadata": {
    "editable": false
   },
   "source": [
    "g. Compute the p-value"
   ]
  },
  {
   "cell_type": "code",
   "execution_count": null,
   "metadata": {},
   "outputs": [],
   "source": [
    "Type your code/calculation here"
   ]
  },
  {
   "cell_type": "markdown",
   "metadata": {
    "editable": false
   },
   "source": [
    "h. State your conclusion."
   ]
  },
  {
   "cell_type": "markdown",
   "metadata": {},
   "source": [
    "Type your answer here"
   ]
  },
  {
   "cell_type": "markdown",
   "metadata": {
    "editable": false
   },
   "source": [
    "## Question 2 : Is the average weight gain different from 30 pounds?"
   ]
  },
  {
   "cell_type": "markdown",
   "metadata": {
    "editable": false
   },
   "source": [
    "### Prepare:\n",
    "\n",
    "a.  What are the hypothesis?\n",
    "\n",
    "\n",
    "#### We will use $\\alpha=0.05$ for this test.\n",
    "\n",
    "### Check\n",
    "\n",
    "We can assume that the sample is random, the data was collected independently, and 1000 is less than 10% of the population. \n",
    "\n",
    "b. Make a histogram \n",
    "\n",
    "c.Do you meet the requirements to perform a valid hypothesis test?\n",
    "\n",
    "### Calculate\n",
    "\n",
    "d.  Calculate the necessary sample statistics. (You need to know the sample mean and sample standard deviation.)\n",
    "\n",
    "e. Calculate the t-score \n",
    "\n",
    "f. What is df, the degrees of freedom?\n",
    "\n",
    "g. Compute the p-value\n",
    "\n",
    "### Conclude\n",
    "\n",
    "h. State your conclusion.\n",
    "\n",
    "\n",
    "\n",
    "\n",
    "\n",
    "\n"
   ]
  },
  {
   "cell_type": "markdown",
   "metadata": {
    "editable": false
   },
   "source": [
    "### Answer Question 2:\n",
    "\n",
    "\n",
    "### Prepare:\n",
    "\n",
    "a.  What are the hypothesis?"
   ]
  },
  {
   "cell_type": "markdown",
   "metadata": {},
   "source": [
    "Type your hypothesis here\n",
    "\n",
    "$Null:  $\\mu$ \n",
    "\n",
    "\n",
    "Alternate: $\\mu $ "
   ]
  },
  {
   "cell_type": "markdown",
   "metadata": {
    "editable": false
   },
   "source": [
    "#### We will use $\\alpha=0.05$ for this test.\n",
    "\n",
    "### Check\n",
    "\n",
    "We can assume that the sample is random, the data was collected independently, and 972 is less than 10% of the population. \n",
    "\n",
    "b. Make a histogram "
   ]
  },
  {
   "cell_type": "code",
   "execution_count": null,
   "metadata": {},
   "outputs": [],
   "source": [
    "Type your code/calculation here"
   ]
  },
  {
   "cell_type": "markdown",
   "metadata": {},
   "source": [
    "c.Do you meet the requirements to perform a valid hypothesis test?\n",
    "\n",
    "\n",
    "Type your answer here"
   ]
  },
  {
   "cell_type": "markdown",
   "metadata": {
    "editable": false
   },
   "source": [
    "### Calculate\n",
    "\n",
    "d.  Calculate the necessary sample statistics. (You need to know the sample mean and sample standard deviation.)"
   ]
  },
  {
   "cell_type": "code",
   "execution_count": null,
   "metadata": {},
   "outputs": [],
   "source": [
    "Type your code/calculation here"
   ]
  },
  {
   "cell_type": "markdown",
   "metadata": {
    "editable": false
   },
   "source": [
    "e. Calculate the t-score "
   ]
  },
  {
   "cell_type": "code",
   "execution_count": null,
   "metadata": {},
   "outputs": [],
   "source": [
    "Type your code/calculation here"
   ]
  },
  {
   "cell_type": "markdown",
   "metadata": {
    "editable": false
   },
   "source": [
    "f. What is df, the degrees of freedom?"
   ]
  },
  {
   "cell_type": "code",
   "execution_count": null,
   "metadata": {},
   "outputs": [],
   "source": [
    "Type your code/calculation here"
   ]
  },
  {
   "cell_type": "markdown",
   "metadata": {
    "editable": false
   },
   "source": [
    "g. Compute the p-value"
   ]
  },
  {
   "cell_type": "code",
   "execution_count": null,
   "metadata": {},
   "outputs": [],
   "source": [
    "Type your code/calculation here"
   ]
  },
  {
   "cell_type": "markdown",
   "metadata": {
    "editable": false
   },
   "source": [
    "### Conclude\n",
    "\n",
    "h. State your conclusion."
   ]
  },
  {
   "cell_type": "markdown",
   "metadata": {},
   "source": [
    "Type your answer here"
   ]
  }
 ],
 "metadata": {
  "kernelspec": {
   "display_name": "R",
   "language": "R",
   "name": "ir"
  },
  "language_info": {
   "codemirror_mode": "r",
   "file_extension": ".r",
   "mimetype": "text/x-r-source",
   "name": "R",
   "pygments_lexer": "r",
   "version": "4.3.1"
  }
 },
 "nbformat": 4,
 "nbformat_minor": 4
}
