{
 "cells": [
  {
   "cell_type": "markdown",
   "id": "bc94b00d",
   "metadata": {},
   "source": [
    "## Worksheet 12 : Practice with some R commands"
   ]
  },
  {
   "cell_type": "markdown",
   "id": "a76ff0f8",
   "metadata": {},
   "source": [
    "## Objectives: ##\n",
    "\n",
    "Practice with the R commands and computations you may need to use on test 3.\n",
    "\n",
    "## Instructions: ##\n",
    "* Do NOT round any of the values unless your are explicitly told to do so in the question.\n",
    "* You can compute the required values using R as your calculator.\n",
    "\n",
    "## Formulae: ##\n",
    "\n",
    "## Objectives: ##\n",
    "\n",
    "Practice with hypothesis tests and confidence intervals in different contexts.\n",
    "\n",
    "## Instructions: ##\n",
    "* Do NOT round any of the values unless your are explicitly told to do so in the question.\n",
    "* You can compute the required values using R as your calculator.\n",
    "\n",
    "## Formulae: ##\n",
    "A confidence interval is calculated by finding\n",
    "$(point\\  \\  \\  estimate) \\pm multiplier\\times SE$\n",
    "\n",
    "Standard Error\n",
    "\n",
    "Standard error for $\\bar{x}$\n",
    "\n",
    "$SE(\\bar{x})=\\frac{\\sigma}{\\sqrt{n}}$\n",
    "\n",
    "$SE(\\bar{x_1}-\\bar{x_2})=\\sqrt{\\frac{\\sigma_1^2}{n_1}+\\frac{\\sigma_2^2}{n_2}}$\n",
    "\n",
    "Standard error for $\\hat{p}$\n",
    "\n",
    "$SE(\\hat{p})=\\sqrt{\\frac{p(1-p)}{n}}$\n",
    "\n",
    "\n",
    "Test statistic \n",
    "\n",
    "$t=\\frac{\\bar{x}-\\mu_0}{\\frac{s}{\\sqrt{n}}}$\n",
    "\n",
    "$t=\\frac{(\\bar{x_1}-\\bar{x_2})-0}{\\sqrt{\\frac{s_1^2}{n_1}+\\frac{s_2^2}{n_2}}}$\n",
    "\n",
    "$z=\\frac{\\hat{p}-p_0}{\\sqrt{\\frac{p_0(1-p_0)}{n}}}$\n",
    "\n",
    "Degrees of Freedom\n",
    "\n",
    "$df=n-1$ \n",
    "\n",
    "$df=min(n_1-1, n_2-1)$"
   ]
  },
  {
   "cell_type": "markdown",
   "id": "aa82c7db",
   "metadata": {},
   "source": [
    "## Tools: ##\n",
    "\n",
    "### To find the area under the curve to the left of a value you can use \n",
    "\n",
    "`pbinom(k,n,p)` the area under the curve starting at k and including everything to the left, for the binomial distribution with n trials and probability of success p.\n",
    "\n",
    "`pt(t,df)` - the area to the left of t, under the t-distribution with df degrees of freedom.\n",
    "\n",
    "`pnorm(x,m,s)`  - the area to the left of x, under the normal distribution with mean m and standard deviation s.\n",
    "\n",
    "### To find the cut off that will have area a to the left you can use the code (we use these to find z* and t* for confidence intervals)\n",
    "\n",
    "`qt(a,df)` - to find the t value that will have area a to the left of it with  t-distribution with df degrees of freedom.\n",
    "\n",
    "`qnorm(a,m,s)` -  to find the x value that will have area a to the left of it with the normal distribution with mean m and standard deviation s.\n",
    "\n",
    "### Square root\n",
    "\n",
    "`sqrt(x)` will compute the square root of x.\n",
    "\n",
    "I will use `normalplot` to include some plots in this worksheet, but it won't work on the test.\n",
    "If you would find it useful to have a graph to look at for one of these questions you can use the normalplot (defined below) just remember to run the code block for the normalplot. \n",
    "* Recall that to draw a normal curve with mean (m) and standard deviation (sd), that is shaded from min to max enter the command:\n",
    "  * `normalplot(m, sd, c(min, max))`\n",
    "* NOTE: You are not required to graph for any of this week's questions."
   ]
  },
  {
   "cell_type": "code",
   "execution_count": 1,
   "id": "a688628f",
   "metadata": {},
   "outputs": [],
   "source": [
    "normalplot<-function(m,sd,region=0){\n",
    "  x<-seq(m-(3.5)*sd,m+(3.5)*sd,length=1000)\n",
    "  y<-dnorm(x,m,sd)\n",
    "  plot(x,y,type=\"l\",xlab=\"\",ylab=\"\", bty=\"n\", yaxt=\"n\")\n",
    "  z<-x[x>region[1]]\n",
    "  z<-z[z<region[2]]\n",
    "  polygon(c(region[1],z,region[2]),\n",
    "          c(0,dnorm(z,m,sd),0),col=\"gray\")\n",
    "  abline(v=m)\n",
    "  abline(h=0)}"
   ]
  },
  {
   "cell_type": "markdown",
   "id": "c26d815c",
   "metadata": {},
   "source": [
    "## Question 1\n",
    "\n",
    "Find the multiplyer (t* or z*) for the following confidence intervals.\n",
    "\n",
    "* a. 92\\% confidence interval for a proportion based on a sample of size 100"
   ]
  },
  {
   "cell_type": "code",
   "execution_count": null,
   "id": "272b469c",
   "metadata": {},
   "outputs": [],
   "source": []
  },
  {
   "cell_type": "markdown",
   "id": "db1d10ea",
   "metadata": {},
   "source": [
    "* b. 93\\% confidence interval for a single mean based on a sample of size 42."
   ]
  },
  {
   "cell_type": "code",
   "execution_count": null,
   "id": "d07c1160",
   "metadata": {},
   "outputs": [],
   "source": []
  },
  {
   "cell_type": "markdown",
   "id": "637b5769",
   "metadata": {},
   "source": [
    "* c. 98\\% confidence interval for the difference between two means, based on two independent samples one of size 26 the other or size 30."
   ]
  },
  {
   "cell_type": "code",
   "execution_count": null,
   "id": "6e0116bb",
   "metadata": {},
   "outputs": [],
   "source": []
  },
  {
   "cell_type": "markdown",
   "id": "7bfabfd5",
   "metadata": {},
   "source": [
    "## Question 2\n",
    "\n",
    "\n",
    "\n",
    " \n",
    " $H_0 : \\mu =30$\n",
    " \n",
    " $H_a : \\mu \\neq 30$\n",
    " \n",
    "$\\bar{x}=33.56$\n",
    "\n",
    " $s=5.32$\n",
    " \n",
    " $n=36$\n",
    " \n",
    "\n",
    "* a. Find the value of the test statistic t  (it should be close to 4)\n",
    "\n",
    "$t=\\frac{\\bar{x}-\\mu_0}{\\frac{s}{\\sqrt{n}}}$"
   ]
  },
  {
   "cell_type": "code",
   "execution_count": null,
   "id": "cf76096e",
   "metadata": {},
   "outputs": [],
   "source": []
  },
  {
   "cell_type": "markdown",
   "id": "06135f7c",
   "metadata": {},
   "source": [
    "* b. Find the p-value"
   ]
  },
  {
   "cell_type": "code",
   "execution_count": null,
   "id": "9bc60fad",
   "metadata": {},
   "outputs": [],
   "source": []
  },
  {
   "cell_type": "markdown",
   "id": "c31f6825",
   "metadata": {},
   "source": [
    "* c. Find the 96\\% confidence interval for $\\mu$."
   ]
  },
  {
   "cell_type": "code",
   "execution_count": null,
   "id": "dafadff9",
   "metadata": {},
   "outputs": [],
   "source": []
  },
  {
   "cell_type": "code",
   "execution_count": null,
   "id": "7e317e6a",
   "metadata": {},
   "outputs": [],
   "source": []
  },
  {
   "cell_type": "markdown",
   "id": "5774dcd4",
   "metadata": {},
   "source": [
    "## Question 3\n",
    " \n",
    "$H_0 : p =0.15$\n",
    "\n",
    " $H_a : p > 0.150$\n",
    " \n",
    "$\\hat{p}=0.17$\n",
    "\n",
    " $n=100$\n",
    "\n",
    "* a. Find the standard error \n",
    "\n",
    "$SE(\\hat{p})=\\sqrt{\\frac{p(1-p)}{n}}$"
   ]
  },
  {
   "cell_type": "code",
   "execution_count": null,
   "id": "1bf35932",
   "metadata": {},
   "outputs": [],
   "source": []
  },
  {
   "cell_type": "markdown",
   "id": "657814b9",
   "metadata": {},
   "source": [
    "* b. Find the test statistic.\n",
    "\n",
    "$z=\\frac{\\hat{p}-p_0}{\\sqrt{\\frac{p_0(1-p_0)}{n}}}$"
   ]
  },
  {
   "cell_type": "code",
   "execution_count": null,
   "id": "4b0d9e21",
   "metadata": {},
   "outputs": [],
   "source": []
  },
  {
   "cell_type": "markdown",
   "id": "b6437c99",
   "metadata": {},
   "source": [
    "* c. Find the p-value"
   ]
  },
  {
   "cell_type": "code",
   "execution_count": null,
   "id": "165f6e1e",
   "metadata": {},
   "outputs": [],
   "source": []
  },
  {
   "cell_type": "markdown",
   "id": "6348082e",
   "metadata": {},
   "source": [
    "* d. Find the 90% confdidence interval for p."
   ]
  },
  {
   "cell_type": "code",
   "execution_count": null,
   "id": "f2d0b8db",
   "metadata": {},
   "outputs": [],
   "source": []
  },
  {
   "cell_type": "code",
   "execution_count": null,
   "id": "6bf095a2",
   "metadata": {},
   "outputs": [],
   "source": []
  }
 ],
 "metadata": {
  "celltoolbar": "Edit Metadata",
  "kernelspec": {
   "display_name": "R",
   "language": "R",
   "name": "ir"
  },
  "language_info": {
   "codemirror_mode": "r",
   "file_extension": ".r",
   "mimetype": "text/x-r-source",
   "name": "R",
   "pygments_lexer": "r",
   "version": "4.3.1"
  }
 },
 "nbformat": 4,
 "nbformat_minor": 5
}
