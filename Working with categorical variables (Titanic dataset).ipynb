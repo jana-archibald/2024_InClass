{
 "cells": [
  {
   "cell_type": "code",
   "execution_count": 1,
   "id": "07da1d6b",
   "metadata": {},
   "outputs": [],
   "source": [
    "load(\"titanicdata.Rda\")"
   ]
  },
  {
   "cell_type": "code",
   "execution_count": null,
   "id": "1500699a-8c52-4b98-bee8-2d6ead7b5375",
   "metadata": {},
   "outputs": [],
   "source": []
  },
  {
   "cell_type": "code",
   "execution_count": 3,
   "id": "f53c01f6",
   "metadata": {},
   "outputs": [
    {
     "data": {
      "text/html": [
       "<table class=\"dataframe\">\n",
       "<caption>A table: 3 × 3 of type dbl</caption>\n",
       "<thead>\n",
       "\t<tr><th></th><th scope=col>No</th><th scope=col>Yes</th><th scope=col>Sum</th></tr>\n",
       "</thead>\n",
       "<tbody>\n",
       "\t<tr><th scope=row>Male</th><td>1364</td><td>367</td><td>1731</td></tr>\n",
       "\t<tr><th scope=row>Female</th><td> 126</td><td>344</td><td> 470</td></tr>\n",
       "\t<tr><th scope=row>Sum</th><td>1490</td><td>711</td><td>2201</td></tr>\n",
       "</tbody>\n",
       "</table>\n"
      ],
      "text/latex": [
       "A table: 3 × 3 of type dbl\n",
       "\\begin{tabular}{r|lll}\n",
       "  & No & Yes & Sum\\\\\n",
       "\\hline\n",
       "\tMale & 1364 & 367 & 1731\\\\\n",
       "\tFemale &  126 & 344 &  470\\\\\n",
       "\tSum & 1490 & 711 & 2201\\\\\n",
       "\\end{tabular}\n"
      ],
      "text/markdown": [
       "\n",
       "A table: 3 × 3 of type dbl\n",
       "\n",
       "| <!--/--> | No | Yes | Sum |\n",
       "|---|---|---|---|\n",
       "| Male | 1364 | 367 | 1731 |\n",
       "| Female |  126 | 344 |  470 |\n",
       "| Sum | 1490 | 711 | 2201 |\n",
       "\n"
      ],
      "text/plain": [
       "        \n",
       "         No   Yes Sum \n",
       "  Male   1364 367 1731\n",
       "  Female  126 344  470\n",
       "  Sum    1490 711 2201"
      ]
     },
     "metadata": {},
     "output_type": "display_data"
    },
    {
     "data": {
      "text/html": [
       "<table class=\"dataframe\">\n",
       "<caption>A table: 5 × 3 of type dbl</caption>\n",
       "<thead>\n",
       "\t<tr><th></th><th scope=col>No</th><th scope=col>Yes</th><th scope=col>Sum</th></tr>\n",
       "</thead>\n",
       "<tbody>\n",
       "\t<tr><th scope=row>1st</th><td> 122</td><td>203</td><td> 325</td></tr>\n",
       "\t<tr><th scope=row>2nd</th><td> 167</td><td>118</td><td> 285</td></tr>\n",
       "\t<tr><th scope=row>3rd</th><td> 528</td><td>178</td><td> 706</td></tr>\n",
       "\t<tr><th scope=row>Crew</th><td> 673</td><td>212</td><td> 885</td></tr>\n",
       "\t<tr><th scope=row>Sum</th><td>1490</td><td>711</td><td>2201</td></tr>\n",
       "</tbody>\n",
       "</table>\n"
      ],
      "text/latex": [
       "A table: 5 × 3 of type dbl\n",
       "\\begin{tabular}{r|lll}\n",
       "  & No & Yes & Sum\\\\\n",
       "\\hline\n",
       "\t1st &  122 & 203 &  325\\\\\n",
       "\t2nd &  167 & 118 &  285\\\\\n",
       "\t3rd &  528 & 178 &  706\\\\\n",
       "\tCrew &  673 & 212 &  885\\\\\n",
       "\tSum & 1490 & 711 & 2201\\\\\n",
       "\\end{tabular}\n"
      ],
      "text/markdown": [
       "\n",
       "A table: 5 × 3 of type dbl\n",
       "\n",
       "| <!--/--> | No | Yes | Sum |\n",
       "|---|---|---|---|\n",
       "| 1st |  122 | 203 |  325 |\n",
       "| 2nd |  167 | 118 |  285 |\n",
       "| 3rd |  528 | 178 |  706 |\n",
       "| Crew |  673 | 212 |  885 |\n",
       "| Sum | 1490 | 711 | 2201 |\n",
       "\n"
      ],
      "text/plain": [
       "      \n",
       "       No   Yes Sum \n",
       "  1st   122 203  325\n",
       "  2nd   167 118  285\n",
       "  3rd   528 178  706\n",
       "  Crew  673 212  885\n",
       "  Sum  1490 711 2201"
      ]
     },
     "metadata": {},
     "output_type": "display_data"
    },
    {
     "data": {
      "text/html": [
       "<table class=\"dataframe\">\n",
       "<caption>A table: 3 × 3 of type dbl</caption>\n",
       "<thead>\n",
       "\t<tr><th></th><th scope=col>No</th><th scope=col>Yes</th><th scope=col>Sum</th></tr>\n",
       "</thead>\n",
       "<tbody>\n",
       "\t<tr><th scope=row>Child</th><td>  52</td><td> 57</td><td> 109</td></tr>\n",
       "\t<tr><th scope=row>Adult</th><td>1438</td><td>654</td><td>2092</td></tr>\n",
       "\t<tr><th scope=row>Sum</th><td>1490</td><td>711</td><td>2201</td></tr>\n",
       "</tbody>\n",
       "</table>\n"
      ],
      "text/latex": [
       "A table: 3 × 3 of type dbl\n",
       "\\begin{tabular}{r|lll}\n",
       "  & No & Yes & Sum\\\\\n",
       "\\hline\n",
       "\tChild &   52 &  57 &  109\\\\\n",
       "\tAdult & 1438 & 654 & 2092\\\\\n",
       "\tSum & 1490 & 711 & 2201\\\\\n",
       "\\end{tabular}\n"
      ],
      "text/markdown": [
       "\n",
       "A table: 3 × 3 of type dbl\n",
       "\n",
       "| <!--/--> | No | Yes | Sum |\n",
       "|---|---|---|---|\n",
       "| Child |   52 |  57 |  109 |\n",
       "| Adult | 1438 | 654 | 2092 |\n",
       "| Sum | 1490 | 711 | 2201 |\n",
       "\n"
      ],
      "text/plain": [
       "       \n",
       "        No   Yes Sum \n",
       "  Child   52  57  109\n",
       "  Adult 1438 654 2092\n",
       "  Sum   1490 711 2201"
      ]
     },
     "metadata": {},
     "output_type": "display_data"
    }
   ],
   "source": [
    "addmargins(table(titanicdata$Sex,titanicdata$Survived))\n",
    "addmargins(table(titanicdata$Class,titanicdata$Survived))\n",
    "addmargins(table(titanicdata$Age,titanicdata$Survived))"
   ]
  },
  {
   "cell_type": "code",
   "execution_count": 2,
   "id": "5c669f67",
   "metadata": {},
   "outputs": [
    {
     "data": {
      "text/html": [
       "<table class=\"dataframe\">\n",
       "<caption>A data.frame: 6 × 4</caption>\n",
       "<thead>\n",
       "\t<tr><th></th><th scope=col>Class</th><th scope=col>Sex</th><th scope=col>Age</th><th scope=col>Survived</th></tr>\n",
       "\t<tr><th></th><th scope=col>&lt;fct&gt;</th><th scope=col>&lt;fct&gt;</th><th scope=col>&lt;fct&gt;</th><th scope=col>&lt;fct&gt;</th></tr>\n",
       "</thead>\n",
       "<tbody>\n",
       "\t<tr><th scope=row>1</th><td>Crew</td><td>Male</td><td>Adult</td><td>No </td></tr>\n",
       "\t<tr><th scope=row>2</th><td>Crew</td><td>Male</td><td>Adult</td><td>No </td></tr>\n",
       "\t<tr><th scope=row>3</th><td>1st </td><td>Male</td><td>Adult</td><td>No </td></tr>\n",
       "\t<tr><th scope=row>4</th><td>Crew</td><td>Male</td><td>Adult</td><td>No </td></tr>\n",
       "\t<tr><th scope=row>5</th><td>3rd </td><td>Male</td><td>Adult</td><td>No </td></tr>\n",
       "\t<tr><th scope=row>6</th><td>Crew</td><td>Male</td><td>Adult</td><td>Yes</td></tr>\n",
       "</tbody>\n",
       "</table>\n"
      ],
      "text/latex": [
       "A data.frame: 6 × 4\n",
       "\\begin{tabular}{r|llll}\n",
       "  & Class & Sex & Age & Survived\\\\\n",
       "  & <fct> & <fct> & <fct> & <fct>\\\\\n",
       "\\hline\n",
       "\t1 & Crew & Male & Adult & No \\\\\n",
       "\t2 & Crew & Male & Adult & No \\\\\n",
       "\t3 & 1st  & Male & Adult & No \\\\\n",
       "\t4 & Crew & Male & Adult & No \\\\\n",
       "\t5 & 3rd  & Male & Adult & No \\\\\n",
       "\t6 & Crew & Male & Adult & Yes\\\\\n",
       "\\end{tabular}\n"
      ],
      "text/markdown": [
       "\n",
       "A data.frame: 6 × 4\n",
       "\n",
       "| <!--/--> | Class &lt;fct&gt; | Sex &lt;fct&gt; | Age &lt;fct&gt; | Survived &lt;fct&gt; |\n",
       "|---|---|---|---|---|\n",
       "| 1 | Crew | Male | Adult | No  |\n",
       "| 2 | Crew | Male | Adult | No  |\n",
       "| 3 | 1st  | Male | Adult | No  |\n",
       "| 4 | Crew | Male | Adult | No  |\n",
       "| 5 | 3rd  | Male | Adult | No  |\n",
       "| 6 | Crew | Male | Adult | Yes |\n",
       "\n"
      ],
      "text/plain": [
       "  Class Sex  Age   Survived\n",
       "1 Crew  Male Adult No      \n",
       "2 Crew  Male Adult No      \n",
       "3 1st   Male Adult No      \n",
       "4 Crew  Male Adult No      \n",
       "5 3rd   Male Adult No      \n",
       "6 Crew  Male Adult Yes     "
      ]
     },
     "metadata": {},
     "output_type": "display_data"
    }
   ],
   "source": [
    "head(titanicdata)"
   ]
  },
  {
   "cell_type": "code",
   "execution_count": 5,
   "id": "9c2ee4a9",
   "metadata": {},
   "outputs": [
    {
     "data": {
      "text/plain": [
       "\n",
       " 1st  2nd  3rd Crew \n",
       " 325  285  706  885 "
      ]
     },
     "metadata": {},
     "output_type": "display_data"
    },
    {
     "data": {
      "text/plain": [
       "\n",
       "      1st       2nd       3rd      Crew \n",
       "0.1476602 0.1294866 0.3207633 0.4020900 "
      ]
     },
     "metadata": {},
     "output_type": "display_data"
    }
   ],
   "source": [
    "table(titanicdata$Class)\n",
    "prop.table(table(titanicdata$Class))"
   ]
  },
  {
   "cell_type": "code",
   "execution_count": 7,
   "id": "203e069c",
   "metadata": {},
   "outputs": [
    {
     "data": {
      "text/plain": [
       "\n",
       "  Male Female \n",
       "  1731    470 "
      ]
     },
     "metadata": {},
     "output_type": "display_data"
    },
    {
     "data": {
      "text/plain": [
       "\n",
       "     Male    Female \n",
       "0.7864607 0.2135393 "
      ]
     },
     "metadata": {},
     "output_type": "display_data"
    }
   ],
   "source": [
    "table(titanicdata$Sex)\n",
    "prop.table(table(titanicdata$Sex))"
   ]
  },
  {
   "cell_type": "code",
   "execution_count": 8,
   "id": "ac31cd6e",
   "metadata": {},
   "outputs": [
    {
     "data": {
      "text/plain": [
       "\n",
       "Child Adult \n",
       "  109  2092 "
      ]
     },
     "metadata": {},
     "output_type": "display_data"
    },
    {
     "data": {
      "text/plain": [
       "\n",
       "     Child      Adult \n",
       "0.04952294 0.95047706 "
      ]
     },
     "metadata": {},
     "output_type": "display_data"
    }
   ],
   "source": [
    "table(titanicdata$Age)\n",
    "prop.table(table(titanicdata$Age))"
   ]
  },
  {
   "cell_type": "code",
   "execution_count": 9,
   "id": "30e146a0",
   "metadata": {},
   "outputs": [
    {
     "data": {
      "text/plain": [
       "\n",
       "  No  Yes \n",
       "1490  711 "
      ]
     },
     "metadata": {},
     "output_type": "display_data"
    },
    {
     "data": {
      "text/plain": [
       "\n",
       "      No      Yes \n",
       "0.676965 0.323035 "
      ]
     },
     "metadata": {},
     "output_type": "display_data"
    }
   ],
   "source": [
    "table(titanicdata$Survived)\n",
    "prop.table(table(titanicdata$Survived))"
   ]
  },
  {
   "cell_type": "code",
   "execution_count": 31,
   "id": "4552bf26",
   "metadata": {},
   "outputs": [
    {
     "data": {
      "text/html": [
       "<table class=\"dataframe\">\n",
       "<caption>A table: 3 × 3 of type dbl</caption>\n",
       "<thead>\n",
       "\t<tr><th></th><th scope=col>No</th><th scope=col>Yes</th><th scope=col>Sum</th></tr>\n",
       "</thead>\n",
       "<tbody>\n",
       "\t<tr><th scope=row>Male</th><td>1364</td><td>367</td><td>1731</td></tr>\n",
       "\t<tr><th scope=row>Female</th><td> 126</td><td>344</td><td> 470</td></tr>\n",
       "\t<tr><th scope=row>Sum</th><td>1490</td><td>711</td><td>2201</td></tr>\n",
       "</tbody>\n",
       "</table>\n"
      ],
      "text/latex": [
       "A table: 3 × 3 of type dbl\n",
       "\\begin{tabular}{r|lll}\n",
       "  & No & Yes & Sum\\\\\n",
       "\\hline\n",
       "\tMale & 1364 & 367 & 1731\\\\\n",
       "\tFemale &  126 & 344 &  470\\\\\n",
       "\tSum & 1490 & 711 & 2201\\\\\n",
       "\\end{tabular}\n"
      ],
      "text/markdown": [
       "\n",
       "A table: 3 × 3 of type dbl\n",
       "\n",
       "| <!--/--> | No | Yes | Sum |\n",
       "|---|---|---|---|\n",
       "| Male | 1364 | 367 | 1731 |\n",
       "| Female |  126 | 344 |  470 |\n",
       "| Sum | 1490 | 711 | 2201 |\n",
       "\n"
      ],
      "text/plain": [
       "        \n",
       "         No   Yes Sum \n",
       "  Male   1364 367 1731\n",
       "  Female  126 344  470\n",
       "  Sum    1490 711 2201"
      ]
     },
     "metadata": {},
     "output_type": "display_data"
    },
    {
     "data": {
      "text/plain": [
       "        \n",
       "                 No        Yes\n",
       "  Male   0.61971831 0.16674239\n",
       "  Female 0.05724671 0.15629259"
      ]
     },
     "metadata": {},
     "output_type": "display_data"
    },
    {
     "data": {
      "text/plain": [
       "        \n",
       "                No       Yes\n",
       "  Male   0.7879838 0.2120162\n",
       "  Female 0.2680851 0.7319149"
      ]
     },
     "metadata": {},
     "output_type": "display_data"
    },
    {
     "data": {
      "text/plain": [
       "        \n",
       "                 No        Yes\n",
       "  Male   0.91543624 0.51617440\n",
       "  Female 0.08456376 0.48382560"
      ]
     },
     "metadata": {},
     "output_type": "display_data"
    }
   ],
   "source": [
    "addmargins(table(titanicdata$Sex,titanicdata$Survived))\n",
    "prop.table(table(titanicdata$Sex,titanicdata$Survived))\n",
    "prop.table(table(titanicdata$Sex,titanicdata$Survived),1)\n",
    "prop.table(table(titanicdata$Sex,titanicdata$Survived),2)"
   ]
  },
  {
   "cell_type": "code",
   "execution_count": 21,
   "id": "03a1861e",
   "metadata": {},
   "outputs": [
    {
     "data": {
      "image/png": "[encoded data removed]",
      "text/plain": [
       "Plot with title “Barplot of Survival and Sex”"
      ]
     },
     "metadata": {
      "image/png": {
       "height": 420,
       "width": 420
      }
     },
     "output_type": "display_data"
    }
   ],
   "source": [
    "par(mfrow=c(2,2))\n",
    "barplot(table(titanicdata$Sex,titanicdata$Survived),main=\"Barplot of Survival and Sex\",legend=T,ylab=\"Frequency\")\n",
    "barplot(table(titanicdata$Survived,titanicdata$Sex),main=\"Barplot of Survival and Sex\",legend=T,ylab=\"Frequency\")\n",
    "barplot(table(titanicdata$Sex,titanicdata$Survived),main=\"Barplot of Survival and Sex\",legend=T,ylab=\"Frequency\",beside=T)\n",
    "barplot(table(titanicdata$Survived,titanicdata$Sex),main=\"Barplot of Survival and Sex\",legend=T,ylab=\"Frequency\",beside=T)"
   ]
  },
  {
   "cell_type": "code",
   "execution_count": 23,
   "id": "8585a76b",
   "metadata": {},
   "outputs": [
    {
     "data": {
      "image/png": "[encoded data removed]",
      "text/plain": [
       "Plot with title “titanicdata”"
      ]
     },
     "metadata": {
      "image/png": {
       "height": 420,
       "width": 420
      }
     },
     "output_type": "display_data"
    },
    {
     "data": {
      "image/png": "[encoded data removed]",
      "text/plain": [
       "Plot with title “titanicdata”"
      ]
     },
     "metadata": {
      "image/png": {
       "height": 420,
       "width": 420
      }
     },
     "output_type": "display_data"
    }
   ],
   "source": [
    "mosaicplot(Survived~Sex,data=titanicdata,color=T)\n",
    "mosaicplot(Sex~Survived,data=titanicdata,color=T)"
   ]
  },
  {
   "cell_type": "code",
   "execution_count": 32,
   "id": "5d574cde",
   "metadata": {},
   "outputs": [
    {
     "data": {
      "text/html": [
       "<table class=\"dataframe\">\n",
       "<caption>A table: 5 × 3 of type dbl</caption>\n",
       "<thead>\n",
       "\t<tr><th></th><th scope=col>No</th><th scope=col>Yes</th><th scope=col>Sum</th></tr>\n",
       "</thead>\n",
       "<tbody>\n",
       "\t<tr><th scope=row>1st</th><td> 122</td><td>203</td><td> 325</td></tr>\n",
       "\t<tr><th scope=row>2nd</th><td> 167</td><td>118</td><td> 285</td></tr>\n",
       "\t<tr><th scope=row>3rd</th><td> 528</td><td>178</td><td> 706</td></tr>\n",
       "\t<tr><th scope=row>Crew</th><td> 673</td><td>212</td><td> 885</td></tr>\n",
       "\t<tr><th scope=row>Sum</th><td>1490</td><td>711</td><td>2201</td></tr>\n",
       "</tbody>\n",
       "</table>\n"
      ],
      "text/latex": [
       "A table: 5 × 3 of type dbl\n",
       "\\begin{tabular}{r|lll}\n",
       "  & No & Yes & Sum\\\\\n",
       "\\hline\n",
       "\t1st &  122 & 203 &  325\\\\\n",
       "\t2nd &  167 & 118 &  285\\\\\n",
       "\t3rd &  528 & 178 &  706\\\\\n",
       "\tCrew &  673 & 212 &  885\\\\\n",
       "\tSum & 1490 & 711 & 2201\\\\\n",
       "\\end{tabular}\n"
      ],
      "text/markdown": [
       "\n",
       "A table: 5 × 3 of type dbl\n",
       "\n",
       "| <!--/--> | No | Yes | Sum |\n",
       "|---|---|---|---|\n",
       "| 1st |  122 | 203 |  325 |\n",
       "| 2nd |  167 | 118 |  285 |\n",
       "| 3rd |  528 | 178 |  706 |\n",
       "| Crew |  673 | 212 |  885 |\n",
       "| Sum | 1490 | 711 | 2201 |\n",
       "\n"
      ],
      "text/plain": [
       "      \n",
       "       No   Yes Sum \n",
       "  1st   122 203  325\n",
       "  2nd   167 118  285\n",
       "  3rd   528 178  706\n",
       "  Crew  673 212  885\n",
       "  Sum  1490 711 2201"
      ]
     },
     "metadata": {},
     "output_type": "display_data"
    },
    {
     "data": {
      "text/plain": [
       "      \n",
       "               No        Yes\n",
       "  1st  0.05542935 0.09223080\n",
       "  2nd  0.07587460 0.05361199\n",
       "  3rd  0.23989096 0.08087233\n",
       "  Crew 0.30577010 0.09631985"
      ]
     },
     "metadata": {},
     "output_type": "display_data"
    },
    {
     "data": {
      "text/plain": [
       "      \n",
       "              No       Yes\n",
       "  1st  0.3753846 0.6246154\n",
       "  2nd  0.5859649 0.4140351\n",
       "  3rd  0.7478754 0.2521246\n",
       "  Crew 0.7604520 0.2395480"
      ]
     },
     "metadata": {},
     "output_type": "display_data"
    },
    {
     "data": {
      "text/plain": [
       "      \n",
       "               No        Yes\n",
       "  1st  0.08187919 0.28551336\n",
       "  2nd  0.11208054 0.16596343\n",
       "  3rd  0.35436242 0.25035162\n",
       "  Crew 0.45167785 0.29817159"
      ]
     },
     "metadata": {},
     "output_type": "display_data"
    },
    {
     "data": {
      "image/png": "[encoded data removed]",
      "text/plain": [
       "Plot with title “Barplot of Survival and  Class”"
      ]
     },
     "metadata": {
      "image/png": {
       "height": 420,
       "width": 420
      }
     },
     "output_type": "display_data"
    },
    {
     "data": {
      "image/png": "[encoded data removed]",
      "text/plain": [
       "Plot with title “titanicdata”"
      ]
     },
     "metadata": {
      "image/png": {
       "height": 420,
       "width": 420
      }
     },
     "output_type": "display_data"
    }
   ],
   "source": [
    "addmargins(table(titanicdata$Class,titanicdata$Survived))\n",
    "prop.table(table(titanicdata$Class,titanicdata$Survived))\n",
    "prop.table(table(titanicdata$Class,titanicdata$Survived),1)\n",
    "prop.table(table(titanicdata$Class,titanicdata$Survived),2)\n",
    "\n",
    "par(mfrow=c(2,2))\n",
    "barplot(table(titanicdata$Class,titanicdata$Survived),main=\"Barplot of Survival and Class\",legend=T,ylab=\"Frequency\")\n",
    "barplot(table(titanicdata$Survived,titanicdata$Class),main=\"Barplot of Survival and  Class\",legend=T,ylab=\"Frequency\")\n",
    "barplot(table(titanicdata$Class,titanicdata$Survived),main=\"Barplot of Survival and Class\",legend=T,ylab=\"Frequency\",beside=T)\n",
    "barplot(table(titanicdata$Survived,titanicdata$Class),main=\"Barplot of Survival and  Class\",legend=T,ylab=\"Frequency\",beside=T)\n",
    "par(mfrow=c(1,1))\n",
    "mosaicplot(Class~Survived,data=titanicdata,color=T)"
   ]
  },
  {
   "cell_type": "code",
   "execution_count": 33,
   "id": "a4c91c95",
   "metadata": {},
   "outputs": [
    {
     "data": {
      "text/html": [
       "<table class=\"dataframe\">\n",
       "<caption>A table: 3 × 3 of type dbl</caption>\n",
       "<thead>\n",
       "\t<tr><th></th><th scope=col>Child</th><th scope=col>Adult</th><th scope=col>Sum</th></tr>\n",
       "</thead>\n",
       "<tbody>\n",
       "\t<tr><th scope=row>Male</th><td> 64</td><td>1667</td><td>1731</td></tr>\n",
       "\t<tr><th scope=row>Female</th><td> 45</td><td> 425</td><td> 470</td></tr>\n",
       "\t<tr><th scope=row>Sum</th><td>109</td><td>2092</td><td>2201</td></tr>\n",
       "</tbody>\n",
       "</table>\n"
      ],
      "text/latex": [
       "A table: 3 × 3 of type dbl\n",
       "\\begin{tabular}{r|lll}\n",
       "  & Child & Adult & Sum\\\\\n",
       "\\hline\n",
       "\tMale &  64 & 1667 & 1731\\\\\n",
       "\tFemale &  45 &  425 &  470\\\\\n",
       "\tSum & 109 & 2092 & 2201\\\\\n",
       "\\end{tabular}\n"
      ],
      "text/markdown": [
       "\n",
       "A table: 3 × 3 of type dbl\n",
       "\n",
       "| <!--/--> | Child | Adult | Sum |\n",
       "|---|---|---|---|\n",
       "| Male |  64 | 1667 | 1731 |\n",
       "| Female |  45 |  425 |  470 |\n",
       "| Sum | 109 | 2092 | 2201 |\n",
       "\n"
      ],
      "text/plain": [
       "        \n",
       "         Child Adult Sum \n",
       "  Male    64   1667  1731\n",
       "  Female  45    425   470\n",
       "  Sum    109   2092  2201"
      ]
     },
     "metadata": {},
     "output_type": "display_data"
    },
    {
     "data": {
      "text/plain": [
       "        \n",
       "              Child      Adult\n",
       "  Male   0.02907769 0.75738301\n",
       "  Female 0.02044525 0.19309405"
      ]
     },
     "metadata": {},
     "output_type": "display_data"
    },
    {
     "data": {
      "text/plain": [
       "        \n",
       "              Child      Adult\n",
       "  Male   0.03697285 0.96302715\n",
       "  Female 0.09574468 0.90425532"
      ]
     },
     "metadata": {},
     "output_type": "display_data"
    },
    {
     "data": {
      "text/plain": [
       "        \n",
       "             Child     Adult\n",
       "  Male   0.5871560 0.7968451\n",
       "  Female 0.4128440 0.2031549"
      ]
     },
     "metadata": {},
     "output_type": "display_data"
    }
   ],
   "source": [
    "addmargins(table(titanicdata$Sex,titanicdata$Age))\n",
    "prop.table(table(titanicdata$Sex,titanicdata$Age))\n",
    "prop.table(table(titanicdata$Sex,titanicdata$Age),1)\n",
    "prop.table(table(titanicdata$Sex,titanicdata$Age),2)"
   ]
  },
  {
   "cell_type": "code",
   "execution_count": 4,
   "id": "2894dc8d",
   "metadata": {},
   "outputs": [
    {
     "data": {
      "image/png": "[encoded data removed]",
      "text/plain": [
       "plot without title"
      ]
     },
     "metadata": {
      "image/png": {
       "height": 420,
       "width": 420
      }
     },
     "output_type": "display_data"
    },
    {
     "data": {
      "image/png": "[encoded data removed]",
      "text/plain": [
       "plot without title"
      ]
     },
     "metadata": {
      "image/png": {
       "height": 420,
       "width": 420
      }
     },
     "output_type": "display_data"
    },
    {
     "data": {
      "image/png": "[encoded data removed]",
      "text/plain": [
       "Plot with title “titanicdata”"
      ]
     },
     "metadata": {
      "image/png": {
       "height": 420,
       "width": 420
      }
     },
     "output_type": "display_data"
    },
    {
     "data": {
      "image/png": "[encoded data removed]",
      "text/plain": [
       "Plot with title “titanicdata”"
      ]
     },
     "metadata": {
      "image/png": {
       "height": 420,
       "width": 420
      }
     },
     "output_type": "display_data"
    }
   ],
   "source": [
    "barplot(table(titanicdata$Sex,titanicdata$Age),legend=T)\n",
    "barplot(table(titanicdata$Age,titanicdata$Sex),legend=T)\n",
    "mosaicplot(Age~Survived,data=titanicdata,color=T)\n",
    "mosaicplot(Age~Sex,data=titanicdata,color=T)"
   ]
  },
  {
   "cell_type": "code",
   "execution_count": 37,
   "id": "52b20b93",
   "metadata": {},
   "outputs": [
    {
     "data": {
      "image/png": "[encoded data removed]",
      "text/plain": [
       "Plot with title “titanicdata”"
      ]
     },
     "metadata": {
      "image/png": {
       "height": 420,
       "width": 420
      }
     },
     "output_type": "display_data"
    }
   ],
   "source": [
    "par(mfrow=c(2,2))\n",
    "\n",
    "mosaicplot(Class~Sex,data=titanicdata,color=T)\n",
    "mosaicplot(Age~Sex,data=titanicdata,color=T)\n",
    "mosaicplot(Survived~Sex,data=titanicdata,color=T)\n"
   ]
  },
  {
   "cell_type": "code",
   "execution_count": 38,
   "id": "6e27cba9",
   "metadata": {},
   "outputs": [
    {
     "data": {
      "image/png": "[encoded data removed]",
      "text/plain": [
       "Plot with title “titanicdata”"
      ]
     },
     "metadata": {
      "image/png": {
       "height": 420,
       "width": 420
      }
     },
     "output_type": "display_data"
    }
   ],
   "source": [
    "par(mfrow=c(2,2))\n",
    "\n",
    "mosaicplot(Class~Survived,data=titanicdata,color=T)\n",
    "mosaicplot(Sex~Survived,data=titanicdata,color=T)\n",
    "mosaicplot(Age~Survived,data=titanicdata,color=T)\n"
   ]
  },
  {
   "cell_type": "code",
   "execution_count": null,
   "id": "4152aabf",
   "metadata": {},
   "outputs": [],
   "source": [
    "par(mfrow=c(2,2))\n",
    "\n",
    "mosaicplot(Class~Survived,data=titanicdata,color=T)\n",
    "mosaicplot(Sex~Survived,data=titanicdata,color=T)\n",
    "mosaicplot(Age~Survived,data=titanicdata,color=T)"
   ]
  },
  {
   "cell_type": "code",
   "execution_count": 34,
   "id": "c1ce8e1c",
   "metadata": {},
   "outputs": [
    {
     "data": {
      "text/html": [
       "<table class=\"dataframe\">\n",
       "<caption>A table: 3 × 3 of type dbl</caption>\n",
       "<thead>\n",
       "\t<tr><th></th><th scope=col>Child</th><th scope=col>Adult</th><th scope=col>Sum</th></tr>\n",
       "</thead>\n",
       "<tbody>\n",
       "\t<tr><th scope=row>Male</th><td> 64</td><td>1667</td><td>1731</td></tr>\n",
       "\t<tr><th scope=row>Female</th><td> 45</td><td> 425</td><td> 470</td></tr>\n",
       "\t<tr><th scope=row>Sum</th><td>109</td><td>2092</td><td>2201</td></tr>\n",
       "</tbody>\n",
       "</table>\n"
      ],
      "text/latex": [
       "A table: 3 × 3 of type dbl\n",
       "\\begin{tabular}{r|lll}\n",
       "  & Child & Adult & Sum\\\\\n",
       "\\hline\n",
       "\tMale &  64 & 1667 & 1731\\\\\n",
       "\tFemale &  45 &  425 &  470\\\\\n",
       "\tSum & 109 & 2092 & 2201\\\\\n",
       "\\end{tabular}\n"
      ],
      "text/markdown": [
       "\n",
       "A table: 3 × 3 of type dbl\n",
       "\n",
       "| <!--/--> | Child | Adult | Sum |\n",
       "|---|---|---|---|\n",
       "| Male |  64 | 1667 | 1731 |\n",
       "| Female |  45 |  425 |  470 |\n",
       "| Sum | 109 | 2092 | 2201 |\n",
       "\n"
      ],
      "text/plain": [
       "        \n",
       "         Child Adult Sum \n",
       "  Male    64   1667  1731\n",
       "  Female  45    425   470\n",
       "  Sum    109   2092  2201"
      ]
     },
     "metadata": {},
     "output_type": "display_data"
    },
    {
     "data": {
      "text/plain": [
       "        \n",
       "              Child      Adult\n",
       "  Male   0.02907769 0.75738301\n",
       "  Female 0.02044525 0.19309405"
      ]
     },
     "metadata": {},
     "output_type": "display_data"
    },
    {
     "data": {
      "text/plain": [
       "        \n",
       "              Child      Adult\n",
       "  Male   0.03697285 0.96302715\n",
       "  Female 0.09574468 0.90425532"
      ]
     },
     "metadata": {},
     "output_type": "display_data"
    },
    {
     "data": {
      "text/plain": [
       "        \n",
       "             Child     Adult\n",
       "  Male   0.5871560 0.7968451\n",
       "  Female 0.4128440 0.2031549"
      ]
     },
     "metadata": {},
     "output_type": "display_data"
    }
   ],
   "source": [
    "addmargins(table(titanicdata$Sex,titanicdata$Age))\n",
    "prop.table(table(titanicdata$Sex,titanicdata$Age))\n",
    "prop.table(table(titanicdata$Sex,titanicdata$Age),1)\n",
    "prop.table(table(titanicdata$Sex,titanicdata$Age),2)"
   ]
  },
  {
   "cell_type": "code",
   "execution_count": null,
   "id": "c16c9873",
   "metadata": {},
   "outputs": [],
   "source": []
  },
  {
   "cell_type": "code",
   "execution_count": null,
   "id": "b621ae14",
   "metadata": {},
   "outputs": [],
   "source": []
  },
  {
   "cell_type": "code",
   "execution_count": null,
   "id": "f9af651c",
   "metadata": {},
   "outputs": [],
   "source": []
  },
  {
   "cell_type": "code",
   "execution_count": 21,
   "id": "5da8f796",
   "metadata": {},
   "outputs": [
    {
     "data": {
      "image/png": "[encoded data removed]",
      "text/plain": [
       "plot without title"
      ]
     },
     "metadata": {
      "image/png": {
       "height": 420,
       "width": 420
      }
     },
     "output_type": "display_data"
    }
   ],
   "source": [
    "barplot(table(titanicdata$Survived,titanicdata$Age),legend=T)"
   ]
  },
  {
   "cell_type": "code",
   "execution_count": 22,
   "id": "aebf15d9",
   "metadata": {},
   "outputs": [
    {
     "data": {
      "image/png": "[encoded data removed]",
      "text/plain": [
       "plot without title"
      ]
     },
     "metadata": {
      "image/png": {
       "height": 420,
       "width": 420
      }
     },
     "output_type": "display_data"
    }
   ],
   "source": [
    "barplot(table(titanicdata$Age,titanicdata$Survived),legend=T)"
   ]
  },
  {
   "cell_type": "code",
   "execution_count": null,
   "id": "bdd68c7e",
   "metadata": {},
   "outputs": [],
   "source": [
    "barplot(table(titanicdata$Survived,titanicdata$Age),legend=T)"
   ]
  },
  {
   "cell_type": "code",
   "execution_count": 12,
   "id": "7d7d43ac",
   "metadata": {},
   "outputs": [
    {
     "data": {
      "image/png": "[encoded data removed]",
      "text/plain": [
       "Plot with title “titanicdata”"
      ]
     },
     "metadata": {
      "image/png": {
       "height": 420,
       "width": 420
      }
     },
     "output_type": "display_data"
    }
   ],
   "source": [
    "mosaicplot(Sex~Survived,data=titanicdata,color=T)"
   ]
  },
  {
   "cell_type": "code",
   "execution_count": 14,
   "id": "cd78a973",
   "metadata": {},
   "outputs": [
    {
     "data": {
      "image/png": "[encoded data removed]",
      "text/plain": [
       "Plot with title “titanicdata”"
      ]
     },
     "metadata": {
      "image/png": {
       "height": 420,
       "width": 420
      }
     },
     "output_type": "display_data"
    }
   ],
   "source": [
    "mosaicplot(Age~Survived,data=titanicdata,color=T)"
   ]
  },
  {
   "cell_type": "code",
   "execution_count": null,
   "id": "2fdbe174",
   "metadata": {},
   "outputs": [],
   "source": [
    "mosaicplot(Age~Survived,data=titanicdata,color=T)"
   ]
  }
 ],
 "metadata": {
  "kernelspec": {
   "display_name": "R",
   "language": "R",
   "name": "ir"
  },
  "language_info": {
   "codemirror_mode": "r",
   "file_extension": ".r",
   "mimetype": "text/x-r-source",
   "name": "R",
   "pygments_lexer": "r",
   "version": "4.3.1"
  }
 },
 "nbformat": 4,
 "nbformat_minor": 5
}
